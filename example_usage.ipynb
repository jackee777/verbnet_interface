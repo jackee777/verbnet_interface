{
 "cells": [
  {
   "cell_type": "code",
   "execution_count": 1,
   "metadata": {},
   "outputs": [],
   "source": [
    "from verbnet_interface.verbnet_interface import verbnet_interface as vi"
   ]
  },
  {
   "cell_type": "code",
   "execution_count": 2,
   "metadata": {},
   "outputs": [
    {
     "data": {
      "text/plain": [
       "Verb_say"
      ]
     },
     "execution_count": 2,
     "metadata": {},
     "output_type": "execute_result"
    }
   ],
   "source": [
    "vn_say = vi(\"say\")\n",
    "vn_say"
   ]
  },
  {
   "cell_type": "code",
   "execution_count": 4,
   "metadata": {},
   "outputs": [
    {
     "data": {
      "text/plain": [
       "[Classid_indicate-78-1, Classid_say-37.7-1]"
      ]
     },
     "execution_count": 4,
     "metadata": {},
     "output_type": "execute_result"
    }
   ],
   "source": [
    "vn_say.synsets"
   ]
  },
  {
   "cell_type": "code",
   "execution_count": 7,
   "metadata": {},
   "outputs": [
    {
     "data": {
      "text/plain": [
       "Classid_say-37.7-1"
      ]
     },
     "execution_count": 7,
     "metadata": {},
     "output_type": "execute_result"
    }
   ],
   "source": [
    "vn_say.synsets[1]"
   ]
  },
  {
   "cell_type": "code",
   "execution_count": 8,
   "metadata": {
    "scrolled": true
   },
   "outputs": [
    {
     "data": {
      "text/plain": [
       "[Synset('announce.v.01'),\n",
       " Synset('announce.v.03'),\n",
       " Synset('give_voice.v.01'),\n",
       " Synset('articulate.v.05'),\n",
       " Synset('spill_the_beans.v.01'),\n",
       " Synset('blurt_out.v.01'),\n",
       " Synset('claim.v.01'),\n",
       " Synset('concede.v.01'),\n",
       " Synset('confide.v.01'),\n",
       " Synset('convey.v.01'),\n",
       " Synset('declare.v.01'),\n",
       " Synset('declare.v.03'),\n",
       " Synset('mention.v.01'),\n",
       " Synset('note.v.01'),\n",
       " Synset('note.v.01'),\n",
       " Synset('proclaim.v.02'),\n",
       " Synset('tell.v.03'),\n",
       " Synset('repeat.v.01'),\n",
       " Synset('relate.v.03'),\n",
       " Synset('unwrap.v.02'),\n",
       " Synset('state.v.01'),\n",
       " Synset('allege.v.01'),\n",
       " Synset('say.v.08'),\n",
       " Synset('order.v.01'),\n",
       " Synset('state.v.01'),\n",
       " Synset('repeat.v.01'),\n",
       " Synset('repeat.v.04'),\n",
       " Synset('note.v.01'),\n",
       " Synset('comment.v.01'),\n",
       " Synset('note.v.01'),\n",
       " Synset('report.v.01'),\n",
       " Synset('report.v.02')]"
      ]
     },
     "execution_count": 8,
     "metadata": {},
     "output_type": "execute_result"
    }
   ],
   "source": [
    "vn_say.synsets[1].get_wordnetids()"
   ]
  },
  {
   "cell_type": "code",
   "execution_count": null,
   "metadata": {},
   "outputs": [],
   "source": []
  }
 ],
 "metadata": {
  "kernelspec": {
   "display_name": "Python 3",
   "language": "python",
   "name": "python3"
  },
  "language_info": {
   "codemirror_mode": {
    "name": "ipython",
    "version": 3
   },
   "file_extension": ".py",
   "mimetype": "text/x-python",
   "name": "python",
   "nbconvert_exporter": "python",
   "pygments_lexer": "ipython3",
   "version": "3.7.6"
  }
 },
 "nbformat": 4,
 "nbformat_minor": 4
}
